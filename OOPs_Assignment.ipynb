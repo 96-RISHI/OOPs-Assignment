{
  "nbformat": 4,
  "nbformat_minor": 0,
  "metadata": {
    "colab": {
      "provenance": []
    },
    "kernelspec": {
      "name": "python3",
      "display_name": "Python 3"
    },
    "language_info": {
      "name": "python"
    }
  },
  "cells": [
    {
      "cell_type": "markdown",
      "source": [
        "**Question 1**. ***What is Object-Oriented Programming (OOP)?***\n",
        "\n",
        "**Answer** : OOPs is the programming paradigm created around the concept of \" object \" which are the instance of \" Classes \". It contains data (Field, often  known as Attibite or properties) and code (procedure, often known as method).\n",
        "\n",
        "**Key Concepts of OOP:**\n",
        "\n",
        "1. Class:\n",
        "\n",
        "  - A blueprint or template for creating objects.\n",
        "  - Defines attribute and metod that the object created from the calss will have.\n",
        "\n",
        "2. Object:\n",
        "\n",
        "  - It is instance of class.\n",
        "  - It represent specific implementation of class with actual value.\n",
        "\n",
        "3. Encapsulation:\n",
        "\n",
        "  - Hides the internal state of an object and only allows access through public methods.\n",
        "  - Helps protect object integrity by preventing outside interference.\n",
        "\n",
        "4. Inheritance:\n",
        "\n",
        "  - A mechanism by which one class (child or subclass) can inherit properties and behaviors from another class (parent or superclass).\n",
        "  - promotes code reuse.\n",
        "\n",
        "5. Polymorphism:\n",
        "\n",
        "  - The ability to take many forms.\n",
        "  - A function or method can behave differently based on the object that invokes it.\n",
        "\n",
        "6. Abstraction:\n",
        "\n",
        "  - Hides comolex implementation details and shows only the essential feature of the object.\n",
        "  - Helps in reducing programming complexity."
      ],
      "metadata": {
        "id": "N-pls4uAAH2U"
      }
    },
    {
      "cell_type": "code",
      "execution_count": null,
      "metadata": {
        "colab": {
          "base_uri": "https://localhost:8080/"
        },
        "id": "4thNRqLUABn-",
        "outputId": "03b1222c-1b40-433c-afc5-02073e90c55b"
      },
      "outputs": [
        {
          "output_type": "stream",
          "name": "stdout",
          "text": [
            "Jimmy barks\n",
            "Stella meow\n"
          ]
        }
      ],
      "source": [
        "# Example\n",
        "\n",
        "class Animal:       # Class\n",
        "\n",
        "      def __init__ (self, name):        # constructor\n",
        "        self.name = name                # Attribute\n",
        "\n",
        "      def speak (self):                 # Method\n",
        "        print (f\"{self.name} makes a sound\")\n",
        "\n",
        "class Dog (Animal):                     # Inheritance\n",
        "\n",
        "      def speak (self):                 # Polymorphism\n",
        "        print (f\"{self.name} barks\")\n",
        "\n",
        "class Cat (Animal):                     # Inheritance\n",
        "\n",
        "      def speak (self):                 # Polymorphism\n",
        "        print(f\"{self.name} meow\")\n",
        "\n",
        "\n",
        "# Object creation\n",
        "\n",
        "dog = Dog(\"Jimmy\")\n",
        "dog.speak()\n",
        "\n",
        "cat = Cat(\"Stella\")\n",
        "cat.speak()\n"
      ]
    },
    {
      "cell_type": "markdown",
      "source": [
        "**Question 2**. ***What is a class in OOPs ?***\n",
        "\n",
        "**Answer** : A  Class is a user-defined blueprint or template in object oriented programming for creating a object .\n",
        "\n",
        "It specifies what attributes (data) and methods (functions) the objects created from it will have."
      ],
      "metadata": {
        "id": "Y2wAbICMJf2o"
      }
    },
    {
      "cell_type": "code",
      "source": [
        "# Example\n",
        "\n",
        "class Car:                                                # Class\n",
        "\n",
        "  def __init__ (self, brand, segment, name, color):       # Constructor\n",
        "    self.brand = brand                                    # Attribute\n",
        "    self.segment = segment                                # \"\"\n",
        "    self.name = name                                      # \"\"\n",
        "    self.color = color                                    # \"\"\n",
        "\n",
        "  def car_info_for_PDI (self):                            # Method\n",
        "    print (f\"{self.brand} {self.segment} {self.name} {self.color} Car with these details is ready for PDI\")\n",
        "\n",
        "# object Creation from the class\n",
        "\n",
        "car1 = Car(\"volkswagen\", \"Sedan\", \"Passat\", \"Matt Black\")\n",
        "car1.car_info_for_PDI()\n",
        "\n"
      ],
      "metadata": {
        "colab": {
          "base_uri": "https://localhost:8080/"
        },
        "id": "P5Q7ZAEQHK68",
        "outputId": "c7250ef2-28c2-482d-b509-72d5ef6d6351"
      },
      "execution_count": null,
      "outputs": [
        {
          "output_type": "stream",
          "name": "stdout",
          "text": [
            "volkswagen Sedan Passat Matt Black Car with these details is ready for PDI\n"
          ]
        }
      ]
    },
    {
      "cell_type": "markdown",
      "source": [
        "**Question 3**. ***What is an object in OOPs ?***\n",
        "\n",
        "**Answer** : Object in OOPs is runtime instance of a class.\n",
        "\n",
        " It represent specific entities that holds data (Attribute) and performs specific actions (Methods) defined in its class.\n",
        "\n",
        " **Key Points:**\n",
        "\n",
        " 1. An object is created from its class , which servers as its blueprint.\n",
        "\n",
        " 2. Each object has its own state (unique values for attributes) and can invoke behaviour (Methods) defined in its class.\n",
        "\n",
        " 3. Objects are the core building blocks of OOPs."
      ],
      "metadata": {
        "id": "h4L0UUPBRcKT"
      }
    },
    {
      "cell_type": "code",
      "source": [
        "# Example\n",
        "\n",
        "class Person:\n",
        "\n",
        "  def __init__ (self, name, age):\n",
        "\n",
        "    self.name = name\n",
        "    self.age = age\n",
        "\n",
        "  def greet(self):\n",
        "\n",
        "    print(f\"My name is {self.name} and i am {self.age} years old\")\n",
        "\n",
        "# Object Creation\n",
        "\n",
        "person1 = Person(\"Raj\", 25) # person1 is object.\n",
        "person2 = Person(\"Jar\", 52) # person2 is second object.\n",
        "person1.greet()\n",
        "person2.greet()"
      ],
      "metadata": {
        "colab": {
          "base_uri": "https://localhost:8080/"
        },
        "id": "dGwRCp2BP71h",
        "outputId": "066c95a9-d4b5-4ef8-d9f9-6d4ddd9aaad5"
      },
      "execution_count": null,
      "outputs": [
        {
          "output_type": "stream",
          "name": "stdout",
          "text": [
            "My name is Raj and i am 25 years old\n",
            "My name is Jar and i am 52 years old\n"
          ]
        }
      ]
    },
    {
      "cell_type": "markdown",
      "source": [
        "**Question 4**. ***What is the difference between Abstarction and Encaptulation ?***\n",
        "\n",
        "**Answer** :\n",
        "\n",
        "***Encaptulation*** :\n",
        "\n",
        "is the technique of bundling data (Variables) and the methods (Functions) that operate on that data  into single unit (class), while restricting direct access  to some of the object  components.\n",
        "\n",
        "It ensures *data protection* and *controlled access* through access modifiers (like private, public, protected).\n",
        "\n",
        "**Example** : The internal state of an object is hidden, and access is provided via getter/setter methods.\n",
        "\n",
        "***Abstraction*** :\n",
        "\n",
        "is a process of hiding complex implementation details and showing only essential features of an object to users.\n",
        "\n",
        "It helps *reduce complexity* by allowing the programmer to focus on what an object does rather than how it does it.\n",
        "\n",
        "**Example** : Driving a car without knowing the internam mechanism.\n",
        "\n",
        "\n",
        "**Difference between Abstraction and Encaptulatiuon**\n",
        "\n",
        "| Aspect              | Abstraction                                                | Encapsulation                                               |\n",
        "|---------------------|------------------------------------------------------------|-------------------------------------------------------------|\n",
        "| Definition          | Hiding implementation details and showing only essentials features | Hiding data and binding it with methods that operates on it.                    |\n",
        "| Purpose             | To simplify complexity by exposing only what is necessary                     | To protect data and ensure controlled access                           |\n",
        "| Focus               | What an object does                                        | how data is accessed and modified                                      |\n",
        "| Achieved Through    | Abstract classes, interfaces, and methods                              | Access modifiers (private, public, protected) and classes                 |\n",
        "| User Perspective    | Concerned with the functionality the user should see                              | Concerned with security and integrity of the data                        |\n",
        "| Access Control      | Not necessarily about restricting access                                   | Explicitly restricts access to internal data                   |\n",
        "| Example             | A car's steering wheel lets you steer without showing how it works internally               | The engine details are hidden inside the car; you access it through controls only              |\n"
      ],
      "metadata": {
        "id": "uB7RYuGdetTO"
      }
    },
    {
      "cell_type": "markdown",
      "source": [
        "**Question 5**. ***What is dunder method in python ?***\n",
        "\n",
        "**Answer** : Dunder methods (short for double underscore) in object oriented programming are special methods that have double underscore at the beginning  and end of their names.\n",
        "\n",
        "They are also known as Magic or Special methods.\n",
        "\n",
        "**Purpose of Dunder Methods:**\n",
        "\n",
        "Dunder methods allow you to define how your custom objects behave with built-in Python operations, such as arithmetic, comparison, length checks, string representation, etc.\n",
        "\n",
        "**Common Dunder Methods:**\n",
        "\n",
        "| Dunder Method         | Purpose                                           |\n",
        "|------------------------|---------------------------------------------------|\n",
        "| `__init__(self, ...)`  | Constructor, initializes a new object             |\n",
        "| `__str__(self)`        | Defines the string representation (`str`)         |\n",
        "| `__repr__(self)`       | Official string representation (`repr`)           |\n",
        "| `__len__(self)`        | Returns the length using `len(obj)`               |\n",
        "| `__add__(self, other)` | Defines behavior for the `+` operator             |\n",
        "| `__eq__(self, other)`  | Checks equality with `==`                         |\n",
        "| `__lt__(self, other)`  | Less than (`<`) comparison                        |\n",
        "| `__getitem__(self, key)` | Access an item using `obj[key]`                 |\n",
        "| `__setitem__(self, key, value)` | Assign like `obj[key] = value`           |\n",
        "| `__del__(self)`        | Destructor, called when object is deleted         |\n",
        "\n",
        "**Why Use Dunder Methods?**\n",
        "\n",
        "1. Make your classes behave like built-in types.\n",
        "\n",
        "2. Improve code readability and integration with Python features.\n",
        "\n",
        "3. Useful in operator overloading and custom class behavior.\n",
        "\n"
      ],
      "metadata": {
        "id": "P5JtaYY2og3u"
      }
    },
    {
      "cell_type": "code",
      "source": [
        "#Example\n",
        "\n",
        "class Book:\n",
        "\n",
        "  def __init__ (self, title, pages):\n",
        "    self.title = title\n",
        "    self.pages = pages\n",
        "\n",
        "  def __str__ (self):\n",
        "    return f\"{self.title} ({self.pages} pages)\"\n",
        "\n",
        "  def __len__ (self):\n",
        "    return self.pages\n",
        "\n",
        "\n",
        "b = Book (\"Applied Mechanics\", 300)\n",
        "\n",
        "print (b)\n",
        "print (len(b))"
      ],
      "metadata": {
        "colab": {
          "base_uri": "https://localhost:8080/"
        },
        "id": "CfixVBToebr1",
        "outputId": "2ddc597f-42a3-4142-c4b9-a20809c66aa1"
      },
      "execution_count": null,
      "outputs": [
        {
          "output_type": "stream",
          "name": "stdout",
          "text": [
            "Applied Mechanics (300 pages)\n",
            "300\n"
          ]
        }
      ]
    },
    {
      "cell_type": "markdown",
      "source": [
        "**Question 6**. ***Explain the concept of inheritance in OOps.***\n",
        "\n",
        "**Answer** : In Object-Oriented Programming (OOP), inheritance is a fundamental concept that allows one class (called a child class or subclass) to inherit properties and behavior (attributes and methods) from another class (called a parent class or superclass).\n",
        "\n",
        "**Key Benefits :**\n",
        "\n",
        "1. Code reusability: Avoid rewriting code.\n",
        "\n",
        "2. Extensibility: Easily add or override functionality.\n",
        "\n",
        "3. Maintainability: Changes in the parent reflect in all children (if not overridden).\n",
        "\n",
        "\n",
        "### Types of Inheritance in Python\n",
        "\n",
        "| Type         | Description                         | Example                          |\n",
        "|--------------|-------------------------------------|----------------------------------|\n",
        "| **Single**   | One child, one parent               | `class B(A):`                    |\n",
        "| **Multiple** | One child, multiple parents         | `class C(A, B):`                 |\n",
        "| **Multilevel** | Inheritance through multiple levels | `class C(B)` → `class B(A)`     |\n",
        "| **Hierarchical** | Multiple children from one parent | `class B(A)`, `class C(A)`      |\n",
        "| **Hybrid**   | Combination of multiple types       | Mix of above                    |\n"
      ],
      "metadata": {
        "id": "6EfspdxOyL5z"
      }
    },
    {
      "cell_type": "code",
      "source": [
        "# Example of single inheritance\n",
        "\n",
        "class Vehicle:  # Parent class\n",
        "    def start(self):\n",
        "        print(\"Engine started\")\n",
        "\n",
        "class Train(Vehicle):  # Child class inherits from Vehicle\n",
        "    def horn(self):\n",
        "        print(\"Train horn sounds\")\n",
        "\n",
        "# Creating object\n",
        "t = Train()\n",
        "t.start()   # Inherited from Vehicle\n",
        "t.horn()    # Defined in Train\n"
      ],
      "metadata": {
        "id": "72jlPl2nk6oR",
        "colab": {
          "base_uri": "https://localhost:8080/"
        },
        "outputId": "5af87514-bbba-4c34-ef76-4b371d78e726"
      },
      "execution_count": null,
      "outputs": [
        {
          "output_type": "stream",
          "name": "stdout",
          "text": [
            "Engine started\n",
            "Train horn sounds\n"
          ]
        }
      ]
    },
    {
      "cell_type": "code",
      "source": [
        "# Example of multiple inheritance\n",
        "\n",
        "class ElectricLoco:                                          # class A\n",
        "    def electric_power(self):\n",
        "        print(\"Powered by electricity\")\n",
        "\n",
        "class DieselLoco:                                             # class B\n",
        "    def diesel_power(self):\n",
        "        print(\"Powered by diesel fuel\")\n",
        "\n",
        "class ElectricDieselHybridLoco(ElectricLoco, DieselLoco):      # subclass/ derived class C (A,B) inherited from both A & B\n",
        "    def hybrid_features(self):\n",
        "        print(\"This loco uses both electric and diesel power\")\n",
        "\n",
        "# Test\n",
        "loco = ElectricDieselHybridLoco()\n",
        "loco.electric_power()      # inherited from ElectricLoco\n",
        "loco.diesel_power()        # inherited from Diesel_Power\n",
        "loco.hybrid_features()     # defined in ElectricDieselHybridLoco\n"
      ],
      "metadata": {
        "colab": {
          "base_uri": "https://localhost:8080/"
        },
        "id": "VpdDVGJsd6fW",
        "outputId": "4d58a4be-e857-49bf-abce-0919b5d9d659"
      },
      "execution_count": null,
      "outputs": [
        {
          "output_type": "stream",
          "name": "stdout",
          "text": [
            "Powered by electricity\n",
            "Powered by diesel fuel\n",
            "This loco uses both electric and diesel power\n"
          ]
        }
      ]
    },
    {
      "cell_type": "code",
      "source": [
        "# Example of Multilevel Inheritance\n",
        "\n",
        "class TrainSignalSystem:                       # Class A\n",
        "    def signal_check(self):\n",
        "        print(\"Signal system is active\")\n",
        "\n",
        "class ElectricLoco(TrainSignalSystem):         # sub class B(A)\n",
        "    def electric_power(self):\n",
        "        print(\"Electric locomotive running\")\n",
        "\n",
        "class HighSpeedElectricLoco(ElectricLoco):      # sub class c(B)\n",
        "    def high_speed_mode(self):\n",
        "        print(\"High-speed mode activated\")\n",
        "\n",
        "# Test\n",
        "loco = HighSpeedElectricLoco()\n",
        "loco.signal_check()             # Inherited from main class A\n",
        "loco.electric_power()           # defined in sub class B\n",
        "loco.high_speed_mode()          # defined in sub class c\n"
      ],
      "metadata": {
        "id": "wiJXyZ60eLS8"
      },
      "execution_count": null,
      "outputs": []
    },
    {
      "cell_type": "markdown",
      "source": [
        "**Question 7**. ***What is polymorphism in OOP ?***\n",
        "\n",
        "**Answer** : Polymorphism is a key concept in Object-Oriented Programming (OOP) that means “many forms.”\n",
        "\n",
        "It allows objects of different classes to be treated as objects of a common superclass, especially when they share the same method name but behave differently.\n",
        "\n",
        "i.e Same function or method name behaves differently for different classes.\n",
        "\n",
        "***Real-World Analogy:***\n",
        "\n",
        "Imagine you use a \"print()\" command:\n",
        "\n",
        "- If it's a PDF, it prints the document.\n",
        "\n",
        "- If it's a photo, it prints the image.\n",
        "\n",
        "- If it's a webpage, it prints the site.\n",
        "\n",
        "Same command, different behavior → Polymorphism."
      ],
      "metadata": {
        "id": "BpRWSTcBfzQ9"
      }
    },
    {
      "cell_type": "code",
      "source": [
        "# Example of Ploymorphism (Method Overriding)\n",
        "\n",
        "class Train:\n",
        "    def info(self):\n",
        "        print(\"This is a general train.\")\n",
        "\n",
        "class ElectricLoco(Train):\n",
        "    def info(self):\n",
        "        print(\"This is an electric locomotive.\")\n",
        "\n",
        "class DieselLoco(Train):\n",
        "    def info(self):\n",
        "        print(\"This is a diesel locomotive.\")\n",
        "\n",
        "# Polymorphic behavior\n",
        "def show_info(train):\n",
        "    train.info()\n",
        "\n",
        "t1 = ElectricLoco()\n",
        "t2 = DieselLoco()\n",
        "\n",
        "show_info(t1)  # Output: This is an electric locomotive.\n",
        "show_info(t2)  # Output: This is a diesel locomotive.\n"
      ],
      "metadata": {
        "colab": {
          "base_uri": "https://localhost:8080/"
        },
        "id": "5sk1HWQrfy0i",
        "outputId": "d771bc00-f2c8-4317-de07-79ce43ea62d7"
      },
      "execution_count": null,
      "outputs": [
        {
          "output_type": "stream",
          "name": "stdout",
          "text": [
            "This is an electric locomotive.\n",
            "This is a diesel locomotive.\n"
          ]
        }
      ]
    },
    {
      "cell_type": "markdown",
      "source": [
        "**Question 8** . ***How is encapsulation achieved in Python ?***\n",
        "\n",
        "**Answer** : Encapsulation means wrapping data (variables) and code (methods) into a single unit (a class), and restricting direct access to some of the object's components to protect data.\n",
        "\n",
        "**Ways to Achieve Encapsulation in Python:**\n",
        "\n",
        "### 🔐 Encapsulation Access Levels in Python\n",
        "\n",
        "| **Access Level** | **Syntax Example**        | **Access Description**                                     |\n",
        "|------------------|---------------------------|-------------------------------------------------------------|\n",
        "| Public           | `self.email_id`               | Accessible from anywhere                                    |\n",
        "| Protected        | `self._login_status`             | Accessible in class & subclasses (by convention)            |\n",
        "| Private          | `self.__Password`    | Not directly accessible (name mangling used internally)     |\n",
        "\n",
        "\n",
        "**Encapsulation Achieved By:**\n",
        "\n",
        "- Making attributes private/protected (_ or __).\n",
        "\n",
        "- Accessing/modifying them via methods (getters and setters).\n",
        "\n",
        "- Preventing accidental changes from outside the class.\n",
        "\n",
        "**Why Use Encapsulation?**\n",
        "\n",
        "-  Data Hiding: Protect internal object state.\n",
        "\n",
        "- Controlled Access: Only allow safe ways to get/set data.\n",
        "\n",
        "- Code Maintenance: Changes inside class don’t affect outside code.\n"
      ],
      "metadata": {
        "id": "mcyTXaSROfpH"
      }
    },
    {
      "cell_type": "code",
      "source": [
        "# Example \"How encaptulation is achieved\"\n",
        "\n",
        "class Social_Media_Login:\n",
        "    def __init__(self, email_id, Password):\n",
        "        self.email_id = email_id                     # Public\n",
        "        self.__Password = Password                   # Private\n",
        "        self._login_status = \"Logged out\"            # Protected\n",
        "\n",
        "    def start_Login(self):\n",
        "        self.__login_status = \"Logged in\"\n",
        "        print(f\"{self.email_id} Logged in.\")\n",
        "\n",
        "    def get_Password(self):\n",
        "        return self.__Password\n",
        "\n",
        "facebook = Social_Media_Login(\"abc@gmail.com\", 123987)\n",
        "\n",
        "print(facebook.email_id)          # Accessible\n",
        "print(facebook._login_status)     # Accessible but discouraged\n",
        "# print(facebook.__password)      # Error (private)\n",
        "facebook.start_Login()\n",
        "print(f\"this is acheived only through getter method\",facebook.get_Password())    # Proper way to access private data\n",
        "\n",
        "\n",
        "\n"
      ],
      "metadata": {
        "colab": {
          "base_uri": "https://localhost:8080/"
        },
        "id": "zeyAqVsIOcB6",
        "outputId": "81a29c88-deff-4dd3-f09f-531ef810eca9"
      },
      "execution_count": null,
      "outputs": [
        {
          "output_type": "stream",
          "name": "stdout",
          "text": [
            "abc@gmail.com\n",
            "Logged out\n",
            "abc@gmail.com Logged in.\n",
            "this is acheived only through getter method 123987\n"
          ]
        }
      ]
    },
    {
      "cell_type": "markdown",
      "source": [
        "**Question 9**. ***What is a constructor in Python ?***\n",
        "\n",
        "**Answer** :    A constructor is a special method that is called automatically when an object is created from a class. Its main role is to initialize the object by setting up its attributes or state.\n",
        "\n",
        "In Python, the constructor method is :   `def __init__(self):`\n",
        "\n",
        "- The method `__init__` initializes the object.\n",
        "\n",
        "- It runs as soon as an object is created.\n",
        "\n",
        "- It can accept parameters to set up the object’s initial state.\n",
        "\n",
        "**Types of Constructors in Python (OOP)**\n",
        "\n",
        "1. Default Constructor : A constructor that does not take any arguments (except self) and initializes attributes with default values.\n",
        "\n",
        "2. Parameterized Constructor :  A constructor that takes arguments to initialize object properties with custom values.\n"
      ],
      "metadata": {
        "id": "MMyXbAZGXIgF"
      }
    },
    {
      "cell_type": "code",
      "source": [
        "# Default Constructor\n",
        "class Car:\n",
        "    def __init__(self):\n",
        "        self.brand = \"Tata\"\n",
        "        self.model = \"Nexon\"\n",
        "\n",
        "c1 = Car()\n",
        "print(f\"using DEFAULT CONSTRUCTOR\",c1.brand, c1.model)  # Output: Tata Nexon\n",
        "\n",
        "# parameterized Constructor\n",
        "\n",
        "class Car:\n",
        "    def __init__(self,brand,model):\n",
        "        self.brand = brand\n",
        "        self.model = model\n",
        "\n",
        "c1 = Car(\"Maruti\", \"Lord Alto\")\n",
        "print(f\"using PARAMETERIZED CONSTRUCTOR\",c1.brand,c1.model)  # Output: Maruti Lord Alto\n"
      ],
      "metadata": {
        "colab": {
          "base_uri": "https://localhost:8080/"
        },
        "id": "DcEqjMzBR13m",
        "outputId": "87724bf8-6d36-4d1d-c7d8-c0f5b6e91b52"
      },
      "execution_count": null,
      "outputs": [
        {
          "output_type": "stream",
          "name": "stdout",
          "text": [
            "using DEFAULT CONSTRUCTOR Tata Nexon\n",
            "using PARAMETERIZED CONSTRUCTOR Maruti Lord Alto\n"
          ]
        }
      ]
    },
    {
      "cell_type": "markdown",
      "source": [
        "**Question 10**. ***What are class and static methods in Python ?***\n",
        "\n",
        "**Answer** :\n",
        "\n",
        "**Class Method**\n",
        "\n",
        "- A class method is a method that works with the class itself, not just individual objects.\n",
        "It can access or change class-level variables shared by all objects.\n",
        "\n",
        "How to define it? :       \n",
        "\n",
        "- se the @classmethod decorator above the method.\n",
        "\n",
        "- The first argument is cls (refers to the class), not self.\n",
        "\n",
        "Why to use it :         \n",
        "\n",
        "- To access or modify class-level data\n",
        "\n",
        "- Useful for writing factory methods (methods that create objects in a special way)"
      ],
      "metadata": {
        "id": "WjIDL-eUcEcQ"
      }
    },
    {
      "cell_type": "code",
      "source": [
        "class Train:\n",
        "    train_count = 0  # Class variable shared by all objects\n",
        "\n",
        "    def __init__(self, name):\n",
        "        self.name = name\n",
        "        Train.train_count += 1\n",
        "\n",
        "    @classmethod\n",
        "    def get_train_count(cls):  # cls refers to the class\n",
        "        return cls.train_count\n",
        "\n",
        "# Creating trains\n",
        "t1 = Train(\"Rajdhani\")\n",
        "t2 = Train(\"Shatabdi\")\n",
        "\n",
        "print(Train.get_train_count())  # Output: 2\n"
      ],
      "metadata": {
        "colab": {
          "base_uri": "https://localhost:8080/"
        },
        "id": "kTR0bNUObRaJ",
        "outputId": "192b10e0-4fac-4db5-9b56-74c217b87552"
      },
      "execution_count": null,
      "outputs": [
        {
          "output_type": "stream",
          "name": "stdout",
          "text": [
            "2\n"
          ]
        }
      ]
    },
    {
      "cell_type": "markdown",
      "source": [
        "**Static Method** :           \n",
        "\n",
        "- A static method is like a regular function, but it's placed inside a class.\n",
        "It does not access or modify class or object data.\n",
        "\n",
        "How to define it ?:\n",
        "\n",
        "- Use the @staticmethod decorator.\n",
        "\n",
        "- No self or cls is passed to it.\n",
        "\n",
        "Why use it ? :\n",
        "\n",
        "- For helper functions related to the class\n",
        "\n",
        "- To keep the code organized and readable"
      ],
      "metadata": {
        "id": "LVkjV2dzgeGf"
      }
    },
    {
      "cell_type": "code",
      "source": [
        "class Calculator:\n",
        "\n",
        "    @staticmethod\n",
        "    def add(x, y):  # No self or cls\n",
        "        return x + y\n",
        "\n",
        "print(Calculator.add(10, 5))  # Output: 15\n"
      ],
      "metadata": {
        "colab": {
          "base_uri": "https://localhost:8080/"
        },
        "id": "jXI6axnVgcNC",
        "outputId": "79981f37-5692-455b-8775-f5c2545d7071"
      },
      "execution_count": null,
      "outputs": [
        {
          "output_type": "stream",
          "name": "stdout",
          "text": [
            "15\n"
          ]
        }
      ]
    },
    {
      "cell_type": "markdown",
      "source": [
        "**Question 11**. ***What is method overloading in Python ? ***\n",
        "\n",
        "**Answer** :\n",
        "- Method Overloading means having multiple methods with the same name but different parameters (number or type).\n",
        "It allows a class to perform different tasks using the same method name based on how it is called.\n",
        "\n",
        "**Problem with Method Overloading in Python :**          \n",
        "\n",
        "- Python does not support method overloading in the traditional way like Java or C++.\n",
        "If you define multiple methods with the same name in a class, the last one will override the previous ones.\n",
        "\n",
        "**Achieving  overloading in Python** :                             \n",
        "\n",
        "- We use default arguments, *args, or **kwargs to simulate method overloading.\n"
      ],
      "metadata": {
        "id": "E4FmSA31hGmE"
      }
    },
    {
      "cell_type": "code",
      "source": [
        "# using default arguments\n",
        "\n",
        "class Calculator:\n",
        "\n",
        "    def product (self, a=0, b=0, c=0):\n",
        "        return a * b * c\n",
        "\n",
        "p1 = Calculator()\n",
        "print (p1.product(1))\n",
        "print (p1.product(1,2))\n",
        "print (p1.product(1,2,3))\n",
        "\n",
        "\n",
        "# Same method product() works with 1, 2, or 3 parameters.\n",
        "\n",
        "# This is Pythonic method overloading using default values."
      ],
      "metadata": {
        "colab": {
          "base_uri": "https://localhost:8080/"
        },
        "id": "lYtokHTFhCFf",
        "outputId": "709622f9-5bdb-4fc9-b390-978eb96c194e"
      },
      "execution_count": null,
      "outputs": [
        {
          "output_type": "stream",
          "name": "stdout",
          "text": [
            "0\n",
            "0\n",
            "6\n"
          ]
        }
      ]
    },
    {
      "cell_type": "code",
      "source": [
        "# using *args\n",
        "\n",
        "class Calculator:\n",
        "\n",
        "    def add (self, *args):\n",
        "        return sum (args)\n",
        "\n",
        "p1 = Calculator()\n",
        "print (p1.add(1))\n",
        "print (p1.add(1,2,3,4))\n",
        "print (p1.add(1,2,3,4,5,6,7,8,9,10))\n",
        "\n",
        "# *args allows any number of arguments.\n",
        "\n",
        "# Method adapts based on input — a flexible way to mimic overloading."
      ],
      "metadata": {
        "colab": {
          "base_uri": "https://localhost:8080/"
        },
        "id": "UieC79WInqI7",
        "outputId": "d50b98fb-b2d5-4a5e-df9e-6793abd8f0d7"
      },
      "execution_count": null,
      "outputs": [
        {
          "output_type": "stream",
          "name": "stdout",
          "text": [
            "1\n",
            "10\n",
            "55\n"
          ]
        }
      ]
    },
    {
      "cell_type": "markdown",
      "source": [
        "**Question 12** . ***What is method overriding in OOP ?***\n",
        "\n",
        "**Answer** : Method overriding is a concept in Object-Oriented Programming (OOP) where a child class provides its own implementation of a method that is already defined in its parent class.\n",
        "\n",
        "It allows a subclass to customize or completely replace the behavior of a method inherited from the parent class.\n",
        "\n",
        "**Key Points:**\n",
        "\n",
        "- The method name must be the same in both the parent and child classes.\n",
        "\n",
        "- The number and type of parameters should be the same.\n",
        "\n",
        "- Achieved through inheritance.\n",
        "\n",
        "- Used for runtime polymorphism (deciding which method to run at runtime)."
      ],
      "metadata": {
        "id": "uCZJhDF4qHiz"
      }
    },
    {
      "cell_type": "code",
      "source": [
        "class Train:\n",
        "    def show_info(self):\n",
        "        print(\"This is a general train.\")\n",
        "\n",
        "class ExpressTrain(Train):\n",
        "    def show_info(self):  # Overriding the parent method\n",
        "        print(\"This is an express train.\")\n",
        "\n",
        "# Creating objects\n",
        "t1 = Train()          # object of parent class (will invoke parent class method)\n",
        "t2 = ExpressTrain()   # # object of sub class (will invoke sub class method, which overides the parent class method)\n",
        "\n",
        "t1.show_info()  # Output: This is a general train.\n",
        "t2.show_info()  # Output: This is an express train.\n",
        "\n",
        "\n",
        "\n",
        "#it isimportant to note that\n",
        "#\"If an object of a parent class is used to invoke the method, then the version in the parent class will be executed,\n",
        "#but if an object of the subclass is used to invoke the method, then the version in the child class will be executed. \"\n",
        "\n"
      ],
      "metadata": {
        "colab": {
          "base_uri": "https://localhost:8080/"
        },
        "id": "BrZiOA7OomJe",
        "outputId": "1b8439f8-2870-44da-efe2-4aeee35f9aad"
      },
      "execution_count": null,
      "outputs": [
        {
          "output_type": "stream",
          "name": "stdout",
          "text": [
            "This is a general train.\n",
            "This is an express train.\n"
          ]
        }
      ]
    },
    {
      "cell_type": "markdown",
      "source": [
        "***Question 13***. ***What is a property decorator in Python ?***\n",
        "\n",
        "**Answer** :  @property decorator is a built-in decorator in Python which is helpful in defining the properties effortlessly without manually calling the inbuilt function property(). Which is used to return the property attributes of a class from the stated getter, setter and deleter as parameters.\n",
        "\n",
        "**Why use @property?**\n",
        "\n",
        "It lets you:\n",
        "\n",
        "- Access a method like an attribute (without parentheses).\n",
        "\n",
        "- Add control or validation logic when getting or setting a value.\n",
        "\n",
        "- Keep the interface clean while allowing internal implementation to change."
      ],
      "metadata": {
        "id": "xxvaZkGfsY_R"
      }
    },
    {
      "cell_type": "code",
      "source": [
        "# Example\n",
        "\n",
        "class Celsius:\n",
        "\n",
        "      def __init__ (self, temp = 0):\n",
        "        self._temp = temp\n",
        "\n",
        "# using property decorator.\n",
        "\n",
        "      @property\n",
        "      def temp (self):                    # Getter Method\n",
        "        print (\"The temperature is\")\n",
        "        return self._temp\n",
        "\n",
        "\n",
        "      @temp.setter                        # Setter method\n",
        "      def temp (self, value):\n",
        "\n",
        "          if value < -273:                                                       # If temperature is less than -273 than a value\n",
        "                raise ValueError (\"Error : value should not be less than -273\")  # error is thrown\n",
        "\n",
        "# Prints this if the value of the temperature is set.\n",
        "\n",
        "          print(\"The value of the temperature is set.\")\n",
        "          self._temp = value\n",
        "\n",
        "      @temp.deleter\n",
        "      def temp(self):\n",
        "          print(\"Deleting temp values........\")\n",
        "          del self._temp\n",
        "\n",
        "\n",
        "# creating object\n",
        "cel = Celsius()\n",
        "cel.temp = -270\n",
        "print (cel.temp)\n",
        "\n"
      ],
      "metadata": {
        "id": "jk-mHwissGjN",
        "colab": {
          "base_uri": "https://localhost:8080/"
        },
        "outputId": "a44cb07a-616c-4297-b0b9-67cdb3cf2092"
      },
      "execution_count": null,
      "outputs": [
        {
          "output_type": "stream",
          "name": "stdout",
          "text": [
            "The value of the temperature is set.\n",
            "The temperature is\n",
            "-270\n"
          ]
        }
      ]
    },
    {
      "cell_type": "code",
      "source": [
        "# changing temp value of object cel\n",
        "cel.temp = -200\n",
        "print(cel.temp)"
      ],
      "metadata": {
        "colab": {
          "base_uri": "https://localhost:8080/"
        },
        "id": "FtK1AuwgzprP",
        "outputId": "89a23d92-04b5-4f53-d243-97a5d080937d"
      },
      "execution_count": null,
      "outputs": [
        {
          "output_type": "stream",
          "name": "stdout",
          "text": [
            "The value of the temperature is set.\n",
            "The temperature is\n",
            "-200\n"
          ]
        }
      ]
    },
    {
      "cell_type": "code",
      "source": [
        "# deleting temp value of object cel\n",
        "del cel.temp\n"
      ],
      "metadata": {
        "colab": {
          "base_uri": "https://localhost:8080/",
          "height": 308
        },
        "id": "e62JpSTS4GZI",
        "outputId": "61679ddb-f66c-47cd-95e7-896ccb0ce81b"
      },
      "execution_count": null,
      "outputs": [
        {
          "output_type": "stream",
          "name": "stdout",
          "text": [
            "Deleting temp values........\n"
          ]
        },
        {
          "output_type": "error",
          "ename": "AttributeError",
          "evalue": "'Celsius' object has no attribute '_temp'",
          "traceback": [
            "\u001b[0;31m---------------------------------------------------------------------------\u001b[0m",
            "\u001b[0;31mAttributeError\u001b[0m                            Traceback (most recent call last)",
            "\u001b[0;32m<ipython-input-31-b71680953684>\u001b[0m in \u001b[0;36m<cell line: 0>\u001b[0;34m()\u001b[0m\n\u001b[1;32m      1\u001b[0m \u001b[0;31m# deleting temp value of object cel\u001b[0m\u001b[0;34m\u001b[0m\u001b[0;34m\u001b[0m\u001b[0m\n\u001b[0;32m----> 2\u001b[0;31m \u001b[0;32mdel\u001b[0m \u001b[0mcel\u001b[0m\u001b[0;34m.\u001b[0m\u001b[0mtemp\u001b[0m\u001b[0;34m\u001b[0m\u001b[0;34m\u001b[0m\u001b[0m\n\u001b[0m",
            "\u001b[0;32m<ipython-input-26-b518ca2ddc13>\u001b[0m in \u001b[0;36mtemp\u001b[0;34m(self)\u001b[0m\n\u001b[1;32m     28\u001b[0m       \u001b[0;32mdef\u001b[0m \u001b[0mtemp\u001b[0m\u001b[0;34m(\u001b[0m\u001b[0mself\u001b[0m\u001b[0;34m)\u001b[0m\u001b[0;34m:\u001b[0m\u001b[0;34m\u001b[0m\u001b[0;34m\u001b[0m\u001b[0m\n\u001b[1;32m     29\u001b[0m           \u001b[0mprint\u001b[0m\u001b[0;34m(\u001b[0m\u001b[0;34m\"Deleting temp values........\"\u001b[0m\u001b[0;34m)\u001b[0m\u001b[0;34m\u001b[0m\u001b[0;34m\u001b[0m\u001b[0m\n\u001b[0;32m---> 30\u001b[0;31m           \u001b[0;32mdel\u001b[0m \u001b[0mself\u001b[0m\u001b[0;34m.\u001b[0m\u001b[0m_temp\u001b[0m\u001b[0;34m\u001b[0m\u001b[0;34m\u001b[0m\u001b[0m\n\u001b[0m\u001b[1;32m     31\u001b[0m \u001b[0;34m\u001b[0m\u001b[0m\n\u001b[1;32m     32\u001b[0m \u001b[0;34m\u001b[0m\u001b[0m\n",
            "\u001b[0;31mAttributeError\u001b[0m: 'Celsius' object has no attribute '_temp'"
          ]
        }
      ]
    },
    {
      "cell_type": "code",
      "source": [
        "# checking if it raises error if temp is less than -273\n",
        "\n",
        "cel.temp = -300\n",
        "print(cel.temp)"
      ],
      "metadata": {
        "colab": {
          "base_uri": "https://localhost:8080/",
          "height": 326
        },
        "id": "RdbgnFkC4Yjy",
        "outputId": "1995a5b8-2880-462e-f3e4-3b6f8d8877e6"
      },
      "execution_count": null,
      "outputs": [
        {
          "output_type": "error",
          "ename": "ValueError",
          "evalue": "Error : value should not be less than -273",
          "traceback": [
            "\u001b[0;31m---------------------------------------------------------------------------\u001b[0m",
            "\u001b[0;31mValueError\u001b[0m                                Traceback (most recent call last)",
            "\u001b[0;32m<ipython-input-32-6197bf4725ce>\u001b[0m in \u001b[0;36m<cell line: 0>\u001b[0;34m()\u001b[0m\n\u001b[1;32m      1\u001b[0m \u001b[0;31m# checking if it raises error if temp is less than -273\u001b[0m\u001b[0;34m\u001b[0m\u001b[0;34m\u001b[0m\u001b[0m\n\u001b[1;32m      2\u001b[0m \u001b[0;34m\u001b[0m\u001b[0m\n\u001b[0;32m----> 3\u001b[0;31m \u001b[0mcel\u001b[0m\u001b[0;34m.\u001b[0m\u001b[0mtemp\u001b[0m \u001b[0;34m=\u001b[0m \u001b[0;34m-\u001b[0m\u001b[0;36m300\u001b[0m\u001b[0;34m\u001b[0m\u001b[0;34m\u001b[0m\u001b[0m\n\u001b[0m\u001b[1;32m      4\u001b[0m \u001b[0mprint\u001b[0m\u001b[0;34m(\u001b[0m\u001b[0mcel\u001b[0m\u001b[0;34m.\u001b[0m\u001b[0mtemp\u001b[0m\u001b[0;34m)\u001b[0m\u001b[0;34m\u001b[0m\u001b[0;34m\u001b[0m\u001b[0m\n",
            "\u001b[0;32m<ipython-input-26-b518ca2ddc13>\u001b[0m in \u001b[0;36mtemp\u001b[0;34m(self, value)\u001b[0m\n\u001b[1;32m     18\u001b[0m \u001b[0;34m\u001b[0m\u001b[0m\n\u001b[1;32m     19\u001b[0m           \u001b[0;32mif\u001b[0m \u001b[0mvalue\u001b[0m \u001b[0;34m<\u001b[0m \u001b[0;34m-\u001b[0m\u001b[0;36m273\u001b[0m\u001b[0;34m:\u001b[0m                                                       \u001b[0;31m# If temperature is less than -273 than a value\u001b[0m\u001b[0;34m\u001b[0m\u001b[0;34m\u001b[0m\u001b[0m\n\u001b[0;32m---> 20\u001b[0;31m                 \u001b[0;32mraise\u001b[0m \u001b[0mValueError\u001b[0m \u001b[0;34m(\u001b[0m\u001b[0;34m\"Error : value should not be less than -273\"\u001b[0m\u001b[0;34m)\u001b[0m  \u001b[0;31m# error is thrown\u001b[0m\u001b[0;34m\u001b[0m\u001b[0;34m\u001b[0m\u001b[0m\n\u001b[0m\u001b[1;32m     21\u001b[0m \u001b[0;34m\u001b[0m\u001b[0m\n\u001b[1;32m     22\u001b[0m \u001b[0;31m# Prints this if the value of the temperature is set.\u001b[0m\u001b[0;34m\u001b[0m\u001b[0;34m\u001b[0m\u001b[0m\n",
            "\u001b[0;31mValueError\u001b[0m: Error : value should not be less than -273"
          ]
        }
      ]
    },
    {
      "cell_type": "markdown",
      "source": [
        "**Question 14**. ***Why is polymorphism important in OOps ?***\n",
        "\n",
        "**Answer** :\n",
        "- Polymorphism is one of the four core principles of Object-Oriented Programming (OOP) (along with encapsulation, inheritance, and abstraction). It plays a crucial role in making code flexible, extensible, and maintainable.\n",
        "\n",
        "- Polymorphism means \"many forms\" — the same method or interface can behave differently depending on the object that invokes it.\n",
        "\n",
        "There are two main types:\n",
        "\n",
        "- Compile-time polymorphism (method overloading – not directly supported in Python)\n",
        "\n",
        "- Run-time polymorphism (method overriding – used extensively in Python)\n",
        "\n",
        "**Importance of Polymorphism in OOps**\n",
        "\n",
        "1. Code Reusability : You can write one function or method that works on multiple types of objects."
      ],
      "metadata": {
        "id": "7Qg5q_ma47ON"
      }
    },
    {
      "cell_type": "code",
      "source": [
        "class Dog:\n",
        "    def speak(self):\n",
        "        return \"Dog's sound : Bark\"\n",
        "\n",
        "class Cat:\n",
        "    def speak(self):\n",
        "        return \"Cat's sound : Meow\"\n",
        "\n",
        "def animal_sound(animal):\n",
        "    print(animal.speak())\n",
        "\n",
        "animal_sound(Dog())  # Bark\n",
        "animal_sound(Cat())  # Meow\n"
      ],
      "metadata": {
        "colab": {
          "base_uri": "https://localhost:8080/"
        },
        "id": "5FLsWxsC43NO",
        "outputId": "7de1fb09-4786-490d-e231-b37c2bfd318f"
      },
      "execution_count": null,
      "outputs": [
        {
          "output_type": "stream",
          "name": "stdout",
          "text": [
            "Dog's sound : Bark\n",
            "Cat's sound : Meow\n"
          ]
        }
      ]
    },
    {
      "cell_type": "markdown",
      "source": [
        "2. Extensibility :\n",
        "New classes can be added without changing existing code.\n",
        "You can add more animal types (e.g., Cow, Lion) that also implement .speak() and the existing animal_sound() function will still work.\n",
        "\n",
        "3. Cleaner Code (Abstraction) :\n",
        "Polymorphism helps hide the internal details of classes. You can interact with objects via a common interface, improving abstraction.\n",
        "\n",
        "4. Supports Loose Coupling :\n",
        "Code that depends on interfaces or base classes (rather than specific implementations) is loosely coupled. This makes it easier to test, maintain, or swap components.\n",
        "\n",
        "5. Enables Dynamic Behavior :\n",
        "At runtime, the object decides which version of the method to call — this enables dynamic and flexible program behavior.\n",
        "\n",
        "**Real-life Analogy:**\n",
        "\n",
        "- Remote Control — it has a press_button() method. Whether the device is a TV, AC, or fan, the action changes, but interface remains the same."
      ],
      "metadata": {
        "id": "WfI0pEzg6XC8"
      }
    },
    {
      "cell_type": "markdown",
      "source": [
        "**Question 15**. ***What is an abstract class in python ?***\n",
        "\n",
        "**Answer**  : An abstract class in Python is a class that cannot be instantiated directly and is meant to be inherited by other classes. It is used to define a common interface for a group of related classes.\n",
        "\n",
        "**Key Features of Abstract Classes:**\n",
        "\n",
        "- Defines a blueprint for other classes.\n",
        "\n",
        "- Contains one or more abstract methods (methods without implementation).\n",
        "\n",
        "- Enforces that child classes implement certain methods.\n",
        "\n"
      ],
      "metadata": {
        "id": "kp--PbqWmiK1"
      }
    },
    {
      "cell_type": "code",
      "source": [
        "from abc import ABC , abstractmethod\n",
        "\n",
        "class Animal(ABC): # inherited from abc to make it abstract\n",
        "\n",
        "  @abstractmethod\n",
        "\n",
        "  def speak(self):  # Abstract Method\n",
        "    pass\n",
        "\n",
        "# It will raise an error while instantiating a abstract class\n",
        "\n",
        "a = Animal()"
      ],
      "metadata": {
        "colab": {
          "base_uri": "https://localhost:8080/",
          "height": 181
        },
        "id": "llLTcike6HkV",
        "outputId": "fd8dc101-b650-4b92-f917-e3487c0e6657"
      },
      "execution_count": null,
      "outputs": [
        {
          "output_type": "error",
          "ename": "TypeError",
          "evalue": "Can't instantiate abstract class Animal with abstract method speak",
          "traceback": [
            "\u001b[0;31m---------------------------------------------------------------------------\u001b[0m",
            "\u001b[0;31mTypeError\u001b[0m                                 Traceback (most recent call last)",
            "\u001b[0;32m<ipython-input-4-4681556ad265>\u001b[0m in \u001b[0;36m<cell line: 0>\u001b[0;34m()\u001b[0m\n\u001b[1;32m     10\u001b[0m \u001b[0;31m# It will raise an error while instantiating a abstract class\u001b[0m\u001b[0;34m\u001b[0m\u001b[0;34m\u001b[0m\u001b[0m\n\u001b[1;32m     11\u001b[0m \u001b[0;34m\u001b[0m\u001b[0m\n\u001b[0;32m---> 12\u001b[0;31m \u001b[0ma\u001b[0m \u001b[0;34m=\u001b[0m \u001b[0mAnimal\u001b[0m\u001b[0;34m(\u001b[0m\u001b[0;34m)\u001b[0m\u001b[0;34m\u001b[0m\u001b[0;34m\u001b[0m\u001b[0m\n\u001b[0m",
            "\u001b[0;31mTypeError\u001b[0m: Can't instantiate abstract class Animal with abstract method speak"
          ]
        }
      ]
    },
    {
      "cell_type": "code",
      "source": [
        "# we can override Abstract Method in subclass\n",
        "\n",
        "class Dog(Animal):\n",
        "    def speak(self):\n",
        "        return \"Bark\"\n",
        "\n",
        "class Cat(Animal):\n",
        "    def speak(self):\n",
        "        return \"Meow\"\n",
        "\n",
        "d = Dog()\n",
        "print(d.speak())  # Output: Bark\n"
      ],
      "metadata": {
        "colab": {
          "base_uri": "https://localhost:8080/"
        },
        "id": "ZvWMvBFyoYao",
        "outputId": "277d0014-d07a-4492-e2de-da339fd3a191"
      },
      "execution_count": null,
      "outputs": [
        {
          "output_type": "stream",
          "name": "stdout",
          "text": [
            "Bark\n"
          ]
        }
      ]
    },
    {
      "cell_type": "markdown",
      "source": [
        "**Why Use Abstract Classes?**\n",
        "\n",
        "| Benefit             | Description                                         |\n",
        "|---------------------|-----------------------------------------------------|\n",
        "| Enforces Structure  | Ensures that all subclasses implement required methods |\n",
        "| Code Consistency    | Helps define a clear interface for similar classes  |\n",
        "| Better Design       | Useful in large systems with many related classes   |\n"
      ],
      "metadata": {
        "id": "_Pd07MKlozxG"
      }
    },
    {
      "cell_type": "markdown",
      "source": [
        "**Question 16**. ***What are the advantages of oops ?***\n",
        "\n",
        "**Answer** :  Object-Oriented Programming (OOP) offers several advantages that make it a powerful programming paradigm, especially for building large, modular, and maintainable software systems.\n",
        "\n",
        "1. Modularity\n",
        "- Code is organized into classes and objects, making it easier to manage.\n",
        "\n",
        "- You can separate logic into independent units.\n",
        "\n",
        "2. Reusability\n",
        "- You can reuse existing code using inheritance.\n",
        "\n",
        "- Once a class is written, it can be used in multiple projects with minimal changes.\n",
        "\n",
        "3. Scalability and Maintainability\n",
        "- OOP makes it easier to scale and update programs.\n",
        "\n",
        "- You can modify individual classes without affecting the rest of the system.\n",
        "\n",
        "4. Encapsulation\n",
        "- Data and methods are bundled together.\n",
        "\n",
        "- Internal object details are hidden from outside, improving security and integrity.\n",
        "\n",
        "5. Abstraction\n",
        "- You can focus on what an object does, not how it does it.\n",
        "\n",
        "- Reduces complexity by hiding unnecessary details.\n",
        "\n",
        "6. Polymorphism\n",
        "- Same interface, different behavior.\n",
        "\n",
        "- Makes it easier to use and extend code without modifying existing logic.\n",
        "\n",
        "7. Easy Troubleshooting and Debugging\n",
        "- Classes and objects make it easier to trace bugs to specific components.\n",
        "\n",
        "- Encapsulated logic helps isolate problems.\n",
        "\n",
        "8. Real-World Mapping\n",
        "- OOP models real-world entities like cars, students, and employees.\n",
        "\n",
        "- Easier for humans to understand and relate to.\n",
        "\n",
        "\n",
        "|Advantage\t         |Description                                      |\n",
        "|--------------------|-------------------------------------------------|\n",
        "|Modularity\t         |Code is organized into small, manageable sections|\n",
        "|Reusability\t       |Inheritance allows code reuse                    |\n",
        "|Maintainability\t   |Easier to update and scale                       |\n",
        "|Encapsulation\t     |Data is hidden and protected                     |\n",
        "|Abstraction\t       |Focus on relevant details only                   |\n",
        "|Polymorphism\t       |One interface, multiple implementations          |\n",
        "|Real-world Mapping\t |Easy to design real-world-like applications      |\n"
      ],
      "metadata": {
        "id": "8XyMKTE8uocS"
      }
    },
    {
      "cell_type": "markdown",
      "source": [
        "**Question 17**.***What is the difference between a class varible and instance variable ?***\n",
        "\n",
        "**Answer** : The difference between a class variable and an instance variable in Python is where they are defined and how they are shared among objects of a class.\n",
        "\n",
        "| Feature              | Class Variable                              | Instance Variable                              |\n",
        "|----------------------|----------------------------------------------|------------------------------------------------|\n",
        "| **Defined in**       | Inside the class, **outside** any method     | Inside a method (usually `__init__`) using `self` |\n",
        "| **Belongs to**       | The **class** itself                         | **Each object** (instance) of the class        |\n",
        "| **Shared by**        | **All objects** of the class                 | **Unique** to each object                      |\n",
        "| **Accessed using**   | `ClassName.var_name` or `object.var_name`    | `object.var_name`                             |\n",
        "| **Typical use**      | Constants, counters, shared data             | Data specific to each object                   |\n"
      ],
      "metadata": {
        "id": "si861g-mw6Kg"
      }
    },
    {
      "cell_type": "code",
      "source": [
        "class Student:\n",
        "\n",
        "  School_Name = \"ST.Theresa's School\"     # Class Variable\n",
        "\n",
        "  def __init__ (self,name,age):\n",
        "      self.name = name                    # Instance Variable\n",
        "      self.age = age                      # Instance Variable"
      ],
      "metadata": {
        "id": "KWJYSeQsolbi"
      },
      "execution_count": null,
      "outputs": []
    },
    {
      "cell_type": "code",
      "source": [
        "s1 = Student(\"Rajat\", 18)                 # Creating Object s1 and s2\n",
        "s2 = Student(\"Ruhi\", 16)\n",
        "\n",
        "print (s1.name,s1.age)                    # Accessing instance Variable\n",
        "print (s1.School_Name)                    # Accessing Class Variable\n",
        "\n",
        "print (s2.name,s2.age)                    # Accessing instance Variable\n",
        "print (s2.School_Name)                    # Accessing Class Variable"
      ],
      "metadata": {
        "colab": {
          "base_uri": "https://localhost:8080/"
        },
        "id": "ImaMXQLKykH_",
        "outputId": "1a884531-5a2f-4b26-baef-244dbb9570d5"
      },
      "execution_count": null,
      "outputs": [
        {
          "output_type": "stream",
          "name": "stdout",
          "text": [
            "Rajat 18\n",
            "GB Pant College of Engineering\n",
            "Ruhi 16\n",
            "GB Pant College of Engineering\n"
          ]
        }
      ]
    },
    {
      "cell_type": "code",
      "source": [
        "# changing class variable\n",
        "\n",
        "Student.School_Name = \"GB Pant College of Engineering\"\n",
        "\n",
        "print (s1.School_Name)                    # Accessing Class Variable\n",
        "print (s2.School_Name)"
      ],
      "metadata": {
        "colab": {
          "base_uri": "https://localhost:8080/"
        },
        "id": "N0uHhbZmy-8r",
        "outputId": "c9371da8-6069-4e71-af28-6fed3c4f0ed0"
      },
      "execution_count": null,
      "outputs": [
        {
          "output_type": "stream",
          "name": "stdout",
          "text": [
            "GB Pant College of Engineering\n",
            "GB Pant College of Engineering\n"
          ]
        }
      ]
    },
    {
      "cell_type": "code",
      "source": [
        "# change instance variable\n",
        "\n",
        "s1.name = \"Aishwariya\"\n",
        "\n",
        "print(s1.name, s1.age, s1.School_Name)"
      ],
      "metadata": {
        "colab": {
          "base_uri": "https://localhost:8080/"
        },
        "id": "2YA_vfPMzx12",
        "outputId": "93f3c0d1-a980-4da4-85a1-95ea3e478a50"
      },
      "execution_count": null,
      "outputs": [
        {
          "output_type": "stream",
          "name": "stdout",
          "text": [
            "Aishwariya 18 GB Pant College of Engineering\n"
          ]
        }
      ]
    },
    {
      "cell_type": "markdown",
      "source": [
        "**Question 18**. ***What is multiple inheritance in python ?***\n",
        "\n",
        "**Answer** : Multiple inheritance means a class can inherit from more than one parent class. The child class gets access to the attributes and methods of all parent classes.\n",
        "\n"
      ],
      "metadata": {
        "id": "sNhXrJb00ttk"
      }
    },
    {
      "cell_type": "code",
      "source": [
        "class Camera: # parent class 1\n",
        "\n",
        "  def take_pic(self):\n",
        "      print(\"capturing pic : say cheese and look in camera\")\n",
        "\n",
        "class Dial:  # parent class 2\n",
        "\n",
        "  def call (self, number):\n",
        "      print(f\"calling....,{number}\")\n",
        "\n",
        "class Search: # parent class 3\n",
        "\n",
        "  def browse (self, prompt):\n",
        "      print(f\"searching....given,{prompt}\")\n",
        "\n",
        "\n",
        "class Smartphone(Camera, Dial, Search):   # child class with multiple inheritance.\n",
        "\n",
        "  def record_audio (self,rec):\n",
        "      print(f\"recodring audio....,{rec}\")\n",
        "\n"
      ],
      "metadata": {
        "id": "tgEmijDU0lYn"
      },
      "execution_count": null,
      "outputs": []
    },
    {
      "cell_type": "code",
      "source": [
        "# creating object\n",
        "shyamsingh = Smartphone()\n",
        "\n",
        "shyamsingh.take_pic()\n",
        "shyamsingh.call(987654321)\n",
        "shyamsingh.browse(\"shfjhnandhfubiufga\")\n",
        "shyamsingh.record_audio(\"recording 1\")"
      ],
      "metadata": {
        "colab": {
          "base_uri": "https://localhost:8080/"
        },
        "id": "Prv0__138eQ-",
        "outputId": "0f5cb70d-ab23-44c3-b3dd-fa9e3160a4c8"
      },
      "execution_count": null,
      "outputs": [
        {
          "output_type": "stream",
          "name": "stdout",
          "text": [
            "capturing pic : say cheese and look in camera\n",
            "calling....,987654321\n",
            "searching....given,shfjhnandhfubiufga\n",
            "recodring audio....,recording 1\n"
          ]
        }
      ]
    },
    {
      "cell_type": "markdown",
      "source": [
        "**Quetsion 19**. **Explain the purpose of `__str__` and `__repr__` in methods in python ?**\n",
        "\n",
        "**Answer** :\n",
        "- In Python, the str() and repr() functions are used to obtain string representations of objects.\n",
        "\n",
        "- While they may seem similar at first glance, there are some differences in how they behave. Both of the functions can be helpful in debugging or printing useful information about the object.\n",
        "\n",
        "**`__str__()` **– User-Friendly String Representation :\n",
        "\n",
        "- Called by the print() function or str() function.\n",
        "\n",
        "- Meant to be readable and informative for end users.\n",
        "\n",
        "**`__repr__()`** – Developer-Friendly Representation :\n",
        "\n",
        "- Called by the repr() function or when inspecting an object in the console.\n",
        "\n",
        "- Meant to be unambiguous and helpful for debugging.\n",
        "\n",
        "- Ideally returns a string that could be used to recreate the object.\n",
        "\n",
        "\n",
        "\n",
        "| Method       | Used By           | Purpose                  | Output Type          |\n",
        "|--------------|-------------------|---------------------------|-----------------------|\n",
        "| `__str__()`  | `print()`, `str()` | User-friendly string      | Readable and simple   |\n",
        "| `__repr__()` | `repr()`, console  | Debugging/developer view  | Precise and unambiguous |\n"
      ],
      "metadata": {
        "id": "th1ojxNS98GL"
      }
    },
    {
      "cell_type": "code",
      "source": [
        "import datetime\n",
        "today = datetime.datetime.now()\n",
        "\n",
        "# Prints readable format for date-time object\n",
        "\n",
        "print(str(today))\n",
        "\n",
        "# prints the official format of date-time object\n",
        "\n",
        "print(repr(today))"
      ],
      "metadata": {
        "colab": {
          "base_uri": "https://localhost:8080/"
        },
        "id": "QF5EsXuK9RT_",
        "outputId": "330c381e-f0dc-4930-f096-8e68e203d6e5"
      },
      "execution_count": null,
      "outputs": [
        {
          "output_type": "stream",
          "name": "stdout",
          "text": [
            "2025-05-22 12:50:39.840920\n",
            "datetime.datetime(2025, 5, 22, 12, 50, 39, 840920)\n"
          ]
        }
      ]
    },
    {
      "cell_type": "markdown",
      "source": [
        "**Question 20**. ***What is the significance of super() function in python ?***\n",
        "\n",
        "**Answer** :  \n",
        "- The super() function in Python is used to call methods from a parent (super) class.\n",
        "- It is especially important in inheritance, where it allows a child class to access and reuse the methods or constructors of its parent class without explicitly naming it.\n",
        "\n",
        "| Feature                      | Description                                                   |\n",
        "|-----------------------------|---------------------------------------------------------------|\n",
        "| Purpose                     | Calls parent class methods or constructor                     |\n",
        "| Avoids Hardcoding           | No need to mention the parent class name directly             |\n",
        "| Supports Multiple Inheritance | Works well with Python’s Method Resolution Order (MRO)       |\n",
        "| Common Use                  | In constructors and method overriding                         |\n",
        "\n",
        "***Conclusion***\n",
        "\n",
        "- super() avoids repeating code by calling the parent class constructor/method.\n",
        "\n",
        "- Helps in multi-level class hierarchies (like Person → Employee → Manager).\n",
        "\n",
        "- Makes code easier to extend and maintain."
      ],
      "metadata": {
        "id": "UGv1VADHDPdz"
      }
    },
    {
      "cell_type": "code",
      "source": [
        "class Person:\n",
        "\n",
        "    def __init__(self, name, age):\n",
        "        self.name = name\n",
        "        self.age = age\n",
        "        print (f\"Person : {name}, Age : {age}\")\n",
        "\n",
        "class Employee (Person):\n",
        "\n",
        "    def __init__(self, name, age, emp_id):\n",
        "      super().__init__(name, age)                      # Calls parent class constructor, avoids repeating codes.\n",
        "      self.emp_id = emp_id\n",
        "      print(f\"Emp_id: {self.emp_id}\")\n",
        "\n",
        "class Manager (Employee):\n",
        "\n",
        "    def __init__(self, name, age, emp_id, department):\n",
        "      super().__init__(name, age, emp_id)\n",
        "      self.department = department\n",
        "      print (f\"Department : {self.department}\")\n",
        "\n",
        "\n",
        "M = Manager(\"Rishabh\", 27, \"PE:9233\", \"Procurement Engineer\")"
      ],
      "metadata": {
        "colab": {
          "base_uri": "https://localhost:8080/"
        },
        "id": "OXtsjHjKC7XP",
        "outputId": "048319d7-1321-483f-9d24-68f697e4d222"
      },
      "execution_count": null,
      "outputs": [
        {
          "output_type": "stream",
          "name": "stdout",
          "text": [
            "Person : Rishabh, Age : 27\n",
            "Emp_id: PE:9233\n",
            "Department : Procurement Engineer\n"
          ]
        }
      ]
    },
    {
      "cell_type": "markdown",
      "source": [
        "**Question 21**. **What is the significance of __del__ method in python ?**\n",
        "\n",
        "**Answer** :\n",
        "\n",
        "- The __del__() method in Python is a special method known as a destructor.\n",
        "\n",
        "- It is called automatically when an object is about to be destroyed (i.e., deleted from memory).\n",
        "\n",
        "| Feature         | Description                                               |\n",
        "|----------------|------------------------------------------------------------|\n",
        "| Purpose         | Clean up resources before object is destroyed             |\n",
        "| Triggered By    | Python garbage collector or `del` statement               |\n",
        "| Called When     | No references to the object remain                        |\n",
        "| Caution         | Don't rely on it for time-sensitive or critical cleanup   |\n"
      ],
      "metadata": {
        "id": "W7hjw-3IKJic"
      }
    },
    {
      "cell_type": "code",
      "source": [
        "class FileHandler:\n",
        "    def __init__(self, filename):\n",
        "        self.filename = filename\n",
        "        print(f\"File {self.filename} opened\")\n",
        "\n",
        "    def __del__(self):\n",
        "        print(f\"File {self.filename} closed and object destroyed\")\n",
        "\n",
        "# Creating and deleting object\n",
        "f = FileHandler(\"data.txt\")\n",
        "del f  # Forces destruction\n"
      ],
      "metadata": {
        "colab": {
          "base_uri": "https://localhost:8080/"
        },
        "id": "g9pR0bRlH--N",
        "outputId": "ad9220f4-541a-4a2c-8a7b-dc6b2c6c5c78"
      },
      "execution_count": null,
      "outputs": [
        {
          "output_type": "stream",
          "name": "stdout",
          "text": [
            "File data.txt opened\n",
            "File data.txt closed and object destroyed\n"
          ]
        }
      ]
    },
    {
      "cell_type": "markdown",
      "source": [
        "Question 22. what is the difference between @staticmethod and @classmethod in python ?\n",
        "\n",
        "**Answer** :\n",
        "\n",
        "In Python, both @staticmethod and @classmethod are decorators used to define special types of methods inside a class. Though they look similar, they serve different purposes.\n",
        "\n",
        "\n",
        "| Feature             | `@staticmethod`                                   | `@classmethod`                                     |\n",
        "|---------------------|---------------------------------------------------|----------------------------------------------------|\n",
        "| Bound to            | Class (no instance or class data access)          | Class (has access to class data via `cls`)         |\n",
        "| First Parameter     | No `self` or `cls`                                | `cls` (refers to the class)                        |\n",
        "| Access Class State? |  No                                               | Yes                                              |\n",
        "| Use Case            | Utility methods that don't need class/instance    | Factory methods or class-level logic               |\n",
        "| How to Call         | `ClassName.method()` or `object.method()`         | `ClassName.method()` or `object.method()`          |\n",
        "\n",
        "\n",
        "**When to Use What?**\n",
        "\n",
        "1. Use `@staticmethod` when:\n",
        "\n",
        "- The method doesn’t use class or instance attributes.\n",
        "\n",
        "- It's more like a general utility function.\n",
        "\n",
        "2. Use `@classmethod` when:\n",
        "\n",
        "- You need to access or modify class-level data.\n",
        "\n",
        "- You’re creating a factory method that returns instances of the class."
      ],
      "metadata": {
        "id": "-l1OGNHLLmIX"
      }
    },
    {
      "cell_type": "code",
      "source": [
        "class MyClass:\n",
        "    name = \"Python\"\n",
        "\n",
        "    @staticmethod\n",
        "    def greet():\n",
        "        print(\"Hello! This is a static method.\")\n",
        "\n",
        "    @classmethod\n",
        "    def show_class_name(cls):\n",
        "        print(f\"This is a class method. Class name: {cls.__name__}\")\n"
      ],
      "metadata": {
        "id": "KJedFviaLhKI"
      },
      "execution_count": null,
      "outputs": []
    },
    {
      "cell_type": "code",
      "source": [
        "MyClass.greet()           # Output: Hello! This is a static method.\n",
        "MyClass.show_class_name() # Output: This is a class method. Class name: MyClass\n"
      ],
      "metadata": {
        "colab": {
          "base_uri": "https://localhost:8080/"
        },
        "id": "s1RiJ2w2MzxY",
        "outputId": "5e8ca4cd-bb7d-40e7-f7fa-5459a6fede0a"
      },
      "execution_count": null,
      "outputs": [
        {
          "output_type": "stream",
          "name": "stdout",
          "text": [
            "Hello! This is a static method.\n",
            "This is a class method. Class name: MyClass\n"
          ]
        }
      ]
    },
    {
      "cell_type": "markdown",
      "source": [
        "**Question 23**.  **How does polymorphism works in python with inheritance ?**\n",
        "\n",
        "**Answer** : Polymorphism means \"many forms\". In Python (and Object-Oriented Programming), it allows you to call the same method on different classes (objects) and have each class respond in its own way.\n",
        "\n",
        "Inheritance enables polymorphism because child classes can override methods from a parent class."
      ],
      "metadata": {
        "id": "DgFKPfUyzZZm"
      }
    },
    {
      "cell_type": "code",
      "source": [
        "class Animal:\n",
        "    def speak(self):\n",
        "        print(\"The animal makes a sound.\")\n",
        "\n",
        "class Dog(Animal):\n",
        "    def speak(self):\n",
        "        print(\"The dog barks.\")\n",
        "\n",
        "class Cat(Animal):\n",
        "    def speak(self):\n",
        "        print(\"The cat meows.\")\n",
        "\n",
        "# Polymorphic Behaviour\n",
        "\n",
        "def make_sound(animal):\n",
        "    animal.speak()  # Calls the appropriate speak method\n",
        "\n",
        "# Create objects\n",
        "a = Animal()\n",
        "d = Dog()\n",
        "c = Cat()\n",
        "\n",
        "# Same function, different results\n",
        "make_sound(a)  # Output: The animal makes a sound.\n",
        "make_sound(d)  # Output: The dog barks.\n",
        "make_sound(c)  # Output: The cat meows.\n"
      ],
      "metadata": {
        "id": "pDGyFr7bM251"
      },
      "execution_count": null,
      "outputs": []
    },
    {
      "cell_type": "markdown",
      "source": [
        "**Question 24. What is method chaining in python OOPs ?**\n",
        "\n",
        "**Answer** : Method Chaining is a technique in Object-Oriented Programming where multiple methods are called in a single line, one after another, on the same object.\n",
        "\n",
        "Each method returns self (the object itself), so the next method can be called on it.\n",
        "\n",
        "| Feature             | Description                                                   |\n",
        "|---------------------|---------------------------------------------------------------|\n",
        "| Concept             | Calling multiple methods on the same object in a single line  |\n",
        "| Works when  | Each method  return `self`                                |\n",
        "| Improves            | Code readability, fluency, and compactness                    |\n",
        "| Commonly Used In    | Libraries like Pandas, Flask, TensorFlow                      |\n",
        "| Example             | `obj.method1().method2().method3()`                           |\n"
      ],
      "metadata": {
        "id": "XjgZG8gb0rqt"
      }
    },
    {
      "cell_type": "code",
      "source": [
        "class Student:\n",
        "    def __init__(self, name):\n",
        "        self.name = name\n",
        "        self.marks = []\n",
        "\n",
        "    def add_mark(self, mark):\n",
        "        self.marks.append(mark)\n",
        "        return self  # Enables chaining\n",
        "\n",
        "    def display(self):\n",
        "        print(f\"{self.name}'s Marks: {self.marks}\")\n",
        "        return self\n",
        "\n",
        "# Using method chaining\n",
        "student = Student(\"Alice\")\n",
        "student.add_mark(85).add_mark(90).add_mark(78).display()\n",
        "\n"
      ],
      "metadata": {
        "colab": {
          "base_uri": "https://localhost:8080/"
        },
        "id": "YlGVjcjE0fAL",
        "outputId": "83b2ce1d-b5c2-4253-918a-25cb78aa430b"
      },
      "execution_count": null,
      "outputs": [
        {
          "output_type": "stream",
          "name": "stdout",
          "text": [
            "Alice's Marks: [85, 90, 78]\n"
          ]
        },
        {
          "output_type": "execute_result",
          "data": {
            "text/plain": [
              "<__main__.Student at 0x78436a285e50>"
            ]
          },
          "metadata": {},
          "execution_count": 4
        }
      ]
    },
    {
      "cell_type": "markdown",
      "source": [
        "**Question 25. What is the purpose of __call__ in python ?**\n",
        "\n",
        "**Answer** :\n",
        "\n",
        "- In Python, the __call__() method allows an instance of a class to be called like a function.\n",
        "\n",
        "- If a class has a __call__() method, you can \"call\" its objects using parentheses () — just like a regular function.\n",
        "\n",
        "**Why Use __call__()?**\n",
        "\n",
        "- Create callable objects\n",
        "\n",
        "- Store state inside objects and use them like functions\n",
        "\n",
        "- Design function wrappers (like decorators)\n",
        "\n",
        "- Create function-like behavior with object-oriented design"
      ],
      "metadata": {
        "id": "ce6r1LrS119p"
      }
    },
    {
      "cell_type": "code",
      "source": [
        "class MultiplyBy:\n",
        "    def __init__(self, factor):\n",
        "        self.factor = factor\n",
        "\n",
        "    def __call__(self, x):\n",
        "        return x * self.factor\n",
        "\n",
        "# Create an object\n",
        "times3 = MultiplyBy(3)\n",
        "\n",
        "# Call the object like a function\n",
        "print(times3(10))  # Output: 30\n",
        "print(times3(5))   # Output: 15\n"
      ],
      "metadata": {
        "colab": {
          "base_uri": "https://localhost:8080/"
        },
        "id": "6Vy-tPUb1SH_",
        "outputId": "4116d534-616c-4941-f4b2-cf7aac92711e"
      },
      "execution_count": null,
      "outputs": [
        {
          "output_type": "stream",
          "name": "stdout",
          "text": [
            "30\n",
            "15\n"
          ]
        }
      ]
    },
    {
      "cell_type": "markdown",
      "source": [
        "# ***PRACTICLE QUESTIONS***"
      ],
      "metadata": {
        "id": "3c2VZJDr2kWc"
      }
    },
    {
      "cell_type": "markdown",
      "source": [
        "1. Create a parent class Animal with a method speak() that prints a generic message. Create a child class Dog that overrides the speak() method to print \"Bark!\"."
      ],
      "metadata": {
        "id": "5a8HHo482rC-"
      }
    },
    {
      "cell_type": "code",
      "source": [
        "class Animal:\n",
        "\n",
        "  def __init__ (self, name,):\n",
        "    self.name = name\n",
        "\n",
        "  def speak (self):\n",
        "    print (f\"{self.name} : sound\")\n",
        "\n",
        "class Dog (Animal):\n",
        "\n",
        "  def speak (self):\n",
        "    print (f\"{self.name} : Bark\")\n",
        "\n",
        "class Cat (Animal):\n",
        "  def speak (self):\n",
        "    print (f\"{self.name} : Meow\")\n",
        "\n",
        "\n",
        "dog = Dog(\"Jimmy\")\n",
        "dog.speak()\n",
        "\n",
        "cat = Cat(\"Stella\")\n",
        "cat.speak()\n",
        "\n",
        "\n"
      ],
      "metadata": {
        "id": "AWfIODRH2i-Y",
        "colab": {
          "base_uri": "https://localhost:8080/"
        },
        "outputId": "00b580ff-3a11-4454-ddf0-1a13ce5354f8"
      },
      "execution_count": null,
      "outputs": [
        {
          "output_type": "stream",
          "name": "stdout",
          "text": [
            "Jimmy : Bark\n",
            "Stella : Meow\n"
          ]
        }
      ]
    },
    {
      "cell_type": "markdown",
      "source": [
        "2. Write a program to create an abstract class Shape with a method area(). Derive classes Circle and Rectangle from it and implement the area() method in both."
      ],
      "metadata": {
        "id": "L3VTZ1sIVJl3"
      }
    },
    {
      "cell_type": "code",
      "source": [
        "from abc import ABC, abstractmethod\n",
        "\n",
        "class Shape(ABC):\n",
        "\n",
        "    @abstractmethod\n",
        "    def area (self):\n",
        "        pass\n",
        "\n",
        "class Circle (Shape):\n",
        "\n",
        "    def __init__ (self,radius):\n",
        "        self.radius = radius\n",
        "\n",
        "    def area (self):\n",
        "        return 3.14 * self.radius * self.radius\n",
        "\n",
        "class Rectangle (Shape):\n",
        "\n",
        "    def __init__ (self, length, breadth):\n",
        "        self.length = length\n",
        "        self.breadth = breadth\n",
        "\n",
        "    def area (self):\n",
        "        return self.length * self.breadth\n",
        "\n",
        "\n",
        "c1 = Circle(2)\n",
        "print (\"circle's area is :\",c1.area())\n",
        "\n",
        "r1 = Rectangle(4,6)\n",
        "print (\"rectangle's area is :\",r1.area())\n",
        "\n",
        "\n",
        "\n"
      ],
      "metadata": {
        "colab": {
          "base_uri": "https://localhost:8080/"
        },
        "id": "vF1PjA2TVOsF",
        "outputId": "8996965e-151f-484c-89a1-b8357ceb5ed0"
      },
      "execution_count": null,
      "outputs": [
        {
          "output_type": "stream",
          "name": "stdout",
          "text": [
            "circle's area is : 12.56\n",
            "rectangle's area is : 24\n"
          ]
        }
      ]
    },
    {
      "cell_type": "markdown",
      "source": [
        "3. Implement a multi-level inheritance scenario where a class Vehicle has an attribute type. Derive a class Car and further derive a class ElectricCar that adds a battery attribute."
      ],
      "metadata": {
        "id": "cmkJLxPxVPIJ"
      }
    },
    {
      "cell_type": "code",
      "source": [
        "class Vehicle:\n",
        "\n",
        "    def __init__(self, type):\n",
        "        self.type = type\n",
        "\n",
        "    def vehicle_info (self):\n",
        "         print (\"The vehicle type is :\", self.type)\n",
        "\n",
        "class Car (Vehicle):\n",
        "\n",
        "    def __init__ (self, type):\n",
        "          super().__init__(type)\n",
        "\n",
        "    def vehicle_info(self):\n",
        "          super().vehicle_info()\n",
        "\n",
        "class ElectriCar (Car):\n",
        "\n",
        "    def __init__ (self, type, battery):\n",
        "          super().__init__(type)\n",
        "          self.battery = battery\n",
        "\n",
        "    def vehicle_info(self):\n",
        "          super().vehicle_info()\n",
        "          print (\"Battery type:\", self.battery)\n",
        "\n",
        "\n",
        "c1 = Car(\"Diesel/Petrol Powered : Passat\")\n",
        "c1.vehicle_info()\n",
        "\n",
        "print()\n",
        "\n",
        "e1 = ElectriCar(\"Battery Powered : Be6\", \"Lithium-ion\" )\n",
        "e1.vehicle_info()\n",
        "\n"
      ],
      "metadata": {
        "colab": {
          "base_uri": "https://localhost:8080/"
        },
        "id": "P2bCUyfEVR5s",
        "outputId": "f4fce868-5dc3-4694-ccd8-d6e5f48a19b1"
      },
      "execution_count": null,
      "outputs": [
        {
          "output_type": "stream",
          "name": "stdout",
          "text": [
            "The vehicle type is : Diesel/Petrol Powered : Passat\n",
            "\n",
            "The vehicle type is : Battery Powered : Be6\n",
            "Battery type: Lithium-ion\n"
          ]
        }
      ]
    },
    {
      "cell_type": "markdown",
      "source": [
        "4. Demonstrate polymorphism by creating a base class Bird with a method fly(). Create two derived classes Sparrow and Penguin that override the fly() method."
      ],
      "metadata": {
        "id": "2c7gu5FLVSVt"
      }
    },
    {
      "cell_type": "code",
      "source": [
        "class Bird:\n",
        "\n",
        "    def __init__(self,name):\n",
        "      self.name = name\n",
        "\n",
        "    def fly (self):\n",
        "      print (f\"{self.name},can fly\")\n",
        "\n",
        "class Sparrow(Bird):\n",
        "\n",
        "    def fly (self):\n",
        "\n",
        "        print (f\"{self.name}, can fly swifltly\")\n",
        "\n",
        "\n",
        "class Penguin (Bird):\n",
        "    def fly (self):\n",
        "        print (f\"{self.name}, cannot fly\")\n",
        "\n",
        "s1 = Sparrow(\"Passer Domesticus\")\n",
        "s1.fly()\n",
        "\n",
        "print()\n",
        "\n",
        "p1 = Penguin(\"Emperor Penguin\")\n",
        "p1.fly()\n",
        "\n"
      ],
      "metadata": {
        "colab": {
          "base_uri": "https://localhost:8080/"
        },
        "id": "WJPGU9PxVU6x",
        "outputId": "f09ed598-6585-4fae-91ae-206b0889503c"
      },
      "execution_count": null,
      "outputs": [
        {
          "output_type": "stream",
          "name": "stdout",
          "text": [
            "Passer Domesticus, can fly swifltly\n",
            "\n",
            "Emperor Penguin, cannot fly\n"
          ]
        }
      ]
    },
    {
      "cell_type": "markdown",
      "source": [
        "5. Write a program to demonstrate encapsulation by creating a class BankAccount with private attributes balance and methods to deposit, withdraw, and check balance."
      ],
      "metadata": {
        "id": "zt8a98j3VVTn"
      }
    },
    {
      "cell_type": "code",
      "source": [
        "class BankAccount:\n",
        "\n",
        "      def __init__ (self, Balance = 0):\n",
        "            self.__Balance = Balance\n",
        "\n",
        "\n",
        "      def deposit (self,amount):\n",
        "\n",
        "          if amount > 0:\n",
        "              self.__Balance += amount\n",
        "              print (f\"Amount after deposit is : \", {self.__Balance})\n",
        "\n",
        "          else:\n",
        "              print (\"Deposit amount should be positive\")\n",
        "\n",
        "\n",
        "      def withdraw (self,amount):\n",
        "\n",
        "          if 0 < amount <= self.__Balance:\n",
        "              self.__Balance -= amount\n",
        "              print (f\"Amount after withdrawl is : \", {self.__Balance})\n",
        "\n",
        "          else:\n",
        "              print(\"Insufficient balance or invalid withdrawal amount.\")\n",
        "\n",
        "\n",
        "      def check_balance (self):\n",
        "              print (f\"The balance in your account is : \", {self.__Balance})\n",
        "\n",
        "\n",
        "      account = BankAccount (1000)\n",
        "      account.check_balance()\n",
        "      print()\n",
        "      account.deposit(500)\n",
        "      print()\n",
        "      account.withdraw(100)\n",
        "      print()\n",
        "      account.check_balance()"
      ],
      "metadata": {
        "colab": {
          "base_uri": "https://localhost:8080/"
        },
        "id": "20KZCIz6VYyh",
        "outputId": "8a45a820-a794-4848-8953-670910cf7ae5"
      },
      "execution_count": null,
      "outputs": [
        {
          "output_type": "stream",
          "name": "stdout",
          "text": [
            "The balance in your account is :  {1000}\n",
            "\n",
            "Amount after deposit is :  {1500}\n",
            "\n",
            "Amount after withdrawl is :  {1400}\n",
            "\n",
            "The balance in your account is :  {1400}\n"
          ]
        }
      ]
    },
    {
      "cell_type": "markdown",
      "source": [
        "6. Demonstrate runtime polymorphism using a method play() in a base class Instrument. Derive classes Guitar and Piano that implement their own version of play()."
      ],
      "metadata": {
        "id": "6-BKtNVMVZNY"
      }
    },
    {
      "cell_type": "code",
      "source": [
        "class Instrument:\n",
        "\n",
        "      def play(self):\n",
        "           return \"Associated with the rythm of type of instruments we are palying\"\n",
        "\n",
        "class Guitar (Instrument):\n",
        "\n",
        "      def play(self):\n",
        "          return \"Guitar can play bending pitch or vibrato\"\n",
        "\n",
        "class Piano (Instrument):\n",
        "\n",
        "      def play(self):\n",
        "          return \"Piano cannot play bending pitch and vibrato\"\n",
        "\n",
        "p1 = Instrument()\n",
        "p2 = Guitar()\n",
        "p3 = Piano()\n",
        "\n",
        "for  Instrument in (p1, p2, p3):\n",
        "    print (Instrument.play())"
      ],
      "metadata": {
        "colab": {
          "base_uri": "https://localhost:8080/"
        },
        "id": "42NaqoDLVcMr",
        "outputId": "9275fa25-f1f1-487d-9d3d-9d595fe2484f"
      },
      "execution_count": null,
      "outputs": [
        {
          "output_type": "stream",
          "name": "stdout",
          "text": [
            "Associated with the rythm of type of instruments we are palying\n",
            "Guitar can play bending pitch or vibrato\n",
            "Piano cannot play bending pitch and vibrato\n"
          ]
        }
      ]
    },
    {
      "cell_type": "markdown",
      "source": [
        "7. Create a class MathOperations with a class method add_numbers() to add two numbers and a static method subtract_numbers() to subtract two numbers."
      ],
      "metadata": {
        "id": "ayf5gZlOVcgx"
      }
    },
    {
      "cell_type": "code",
      "source": [
        "class MathOperations:\n",
        "\n",
        "      @classmethod\n",
        "      def add_numbers(cls, a, b):\n",
        "          return a + b\n",
        "\n",
        "      @staticmethod\n",
        "      def subtract_number(a, b):\n",
        "          return a - b\n",
        "\n",
        "print(\"Addition:\", MathOperations.add_numbers(10, 5))\n",
        "print(\"Subtraction:\", MathOperations.subtract_number(10, 5))\n"
      ],
      "metadata": {
        "colab": {
          "base_uri": "https://localhost:8080/"
        },
        "id": "541V7p03Ve9B",
        "outputId": "e4e0b66c-0744-485f-ad26-42e4f012c4ee"
      },
      "execution_count": null,
      "outputs": [
        {
          "output_type": "stream",
          "name": "stdout",
          "text": [
            "Addition: 15\n",
            "Subtraction: 5\n"
          ]
        }
      ]
    },
    {
      "cell_type": "markdown",
      "source": [
        "8. Implement a class Person with a class method to count the total number of persons created."
      ],
      "metadata": {
        "id": "yvRiDfQ_VfQ1"
      }
    },
    {
      "cell_type": "code",
      "source": [
        "class Person:\n",
        "  # Class variable to keep track of the number of instances\n",
        "  count = 0\n",
        "\n",
        "  def __init__ (self):\n",
        "    # Increment the count each time a new instance is created\n",
        "    Person.count += 1\n",
        "\n",
        "  @classmethod\n",
        "  def count_person (cls):\n",
        "     # Return the current count of instances\n",
        "    return cls.count\n",
        "\n",
        "# Creating instances of Person\n",
        "p1 = Person()\n",
        "p2 = Person()\n",
        "p3 = Person()\n",
        "\n",
        "# Accessing the count of instances\n",
        "print(f\"No of Person created :\", Person.count_person())\n"
      ],
      "metadata": {
        "colab": {
          "base_uri": "https://localhost:8080/"
        },
        "id": "psmci19sViMk",
        "outputId": "4234f843-60f9-4fc4-d09d-f461afcc6998"
      },
      "execution_count": null,
      "outputs": [
        {
          "output_type": "stream",
          "name": "stdout",
          "text": [
            "No of Person created : 3\n"
          ]
        }
      ]
    },
    {
      "cell_type": "markdown",
      "source": [
        "9. Write a class Fraction with attributes numerator and denominator. Override the str method to display the fraction as \"numerator/denominator\"."
      ],
      "metadata": {
        "id": "-ns4ttLIVing"
      }
    },
    {
      "cell_type": "code",
      "source": [
        "class Fraction:\n",
        "\n",
        "  def __init__ (self, numerator, denominator):\n",
        "    self.numerator = numerator\n",
        "    self.denominator = denominator\n",
        "\n",
        "  def __str__ (self):\n",
        "    return f\"The fraction is : {self.numerator} / {self.denominator}\"\n",
        "\n",
        "f1 = Fraction(2, 3)\n",
        "print (str(f1))"
      ],
      "metadata": {
        "colab": {
          "base_uri": "https://localhost:8080/"
        },
        "id": "1nVZxolNVlS4",
        "outputId": "daae03c5-b871-48ac-a094-87f28ddf533e"
      },
      "execution_count": null,
      "outputs": [
        {
          "output_type": "stream",
          "name": "stdout",
          "text": [
            "The fraction is :, 2 / 3\n"
          ]
        }
      ]
    },
    {
      "cell_type": "markdown",
      "source": [
        "10. Demonstrate operator overloading by creating a class Vector and overriding the add method to add two vectors."
      ],
      "metadata": {
        "id": "vndsZBh3Vltx"
      }
    },
    {
      "cell_type": "code",
      "source": [
        "class Vector:\n",
        "\n",
        "  def __init__ (self, a, b):\n",
        "    self.a = a\n",
        "    self.b = b\n",
        "\n",
        "  def __add__(self, other):\n",
        "    return (self.a + other.a, self.b + other.b)\n",
        "\n",
        "v1 = Vector(2, 3)\n",
        "v2 = Vector(4, 5)\n",
        "\n",
        "v3 = v1 + v2\n",
        "print (str(v3))"
      ],
      "metadata": {
        "colab": {
          "base_uri": "https://localhost:8080/"
        },
        "id": "BYWfaz7pVojf",
        "outputId": "148c2385-3b02-456a-f132-e06fc0bb3496"
      },
      "execution_count": null,
      "outputs": [
        {
          "output_type": "stream",
          "name": "stdout",
          "text": [
            "(6, 8)\n"
          ]
        }
      ]
    },
    {
      "cell_type": "markdown",
      "source": [
        "11. Create a class Person with attributes name and age. Add a method greet() that prints \"Hello, my name is {name} and I am {age} years old.\""
      ],
      "metadata": {
        "id": "xuDmwQfjVpHQ"
      }
    },
    {
      "cell_type": "code",
      "source": [
        "class Person:\n",
        "\n",
        "  def __init__ (self, name, age):\n",
        "    self.name = name\n",
        "    self.age = age\n",
        "\n",
        "  def greet(self):\n",
        "    return (f\"Hello, my name is {self.name} and i am {self.age} years old.\")\n",
        "\n",
        "prsn1 = Person(\"Raj\", 28)\n",
        "print(prsn1.greet())\n"
      ],
      "metadata": {
        "colab": {
          "base_uri": "https://localhost:8080/"
        },
        "id": "vgbRgmqdVrrn",
        "outputId": "c8b3ad50-785e-42e5-935b-505365317c34"
      },
      "execution_count": null,
      "outputs": [
        {
          "output_type": "stream",
          "name": "stdout",
          "text": [
            "Hello, my name is Raj and i am 28 years old.\n"
          ]
        }
      ]
    },
    {
      "cell_type": "markdown",
      "source": [
        "12. Implement a class Student with attributes name and grades. Create a method average_grade() to compute the average of the grades."
      ],
      "metadata": {
        "id": "OFEtfgIsVsAs"
      }
    },
    {
      "cell_type": "code",
      "source": [
        "class Student:\n",
        "\n",
        "  def __init__ (self, name, *grade):\n",
        "      self.name = name\n",
        "      self.grade = grade\n",
        "\n",
        "  def average_grade(self):\n",
        "      avg = sum(self.grade)/len(self.grade)\n",
        "      return f\"Average marks obtained by {self.name} is {avg}\"\n",
        "\n",
        "s1 = Student (\"Rajat\", 20, 25, 30, 35)\n",
        "print(s1.average_grade())"
      ],
      "metadata": {
        "colab": {
          "base_uri": "https://localhost:8080/"
        },
        "id": "5TUZROxGVuyw",
        "outputId": "56474924-8ee6-4d9e-a7be-2b38693514d7"
      },
      "execution_count": null,
      "outputs": [
        {
          "output_type": "stream",
          "name": "stdout",
          "text": [
            "Average marks obtained by Rajat is 27.5\n"
          ]
        }
      ]
    },
    {
      "cell_type": "markdown",
      "source": [
        "13. Create a class Rectangle with methods set_dimensions() to set the dimensions and area() to calculate the area."
      ],
      "metadata": {
        "id": "_nn2nfwcVvNp"
      }
    },
    {
      "cell_type": "code",
      "source": [
        "class Rectangle:\n",
        "\n",
        "  def __init__ (self):\n",
        "    pass\n",
        "\n",
        "  def set_dimensions(self, length, breadth):\n",
        "    self.length = length\n",
        "    self.breadth = breadth\n",
        "\n",
        "  def area (self):\n",
        "    return  self.length * self.breadth\n",
        "\n",
        "a1 = Rectangle()\n",
        "a1.set_dimensions(10, 20)\n",
        "print(a1.area())\n",
        "\n"
      ],
      "metadata": {
        "colab": {
          "base_uri": "https://localhost:8080/"
        },
        "id": "au5kpfnlVxwN",
        "outputId": "423360e1-17ff-4a0f-820f-af4177ad63e6"
      },
      "execution_count": null,
      "outputs": [
        {
          "output_type": "stream",
          "name": "stdout",
          "text": [
            "200\n"
          ]
        }
      ]
    },
    {
      "cell_type": "markdown",
      "source": [
        "14. Create a class Employee with a method calculate_salary() that computes the salary based on hours worked and hourly rate. Create a derived class Manager that adds a bonus to the salary."
      ],
      "metadata": {
        "id": "zqnTOEzFVyFz"
      }
    },
    {
      "cell_type": "code",
      "source": [
        "class Employee:\n",
        "\n",
        "      def __init__ (self, hourly_work, hourly_rate):\n",
        "          self.hourly_work = hourly_work\n",
        "          self.hourly_rate = hourly_rate\n",
        "\n",
        "      def calculate_salary(self):\n",
        "          salary = self.hourly_work * self.hourly_rate\n",
        "          return f\"The salary is : {salary}\"\n",
        "\n",
        "class Manager (Employee):\n",
        "\n",
        "      def bonus (self, bonus_amt):\n",
        "          total_salary = (self.hourly_work * self.hourly_rate) + bonus_amt\n",
        "          return f\"The salary after bonus is : {total_salary}\"\n",
        "\n",
        "s1 = Manager(8, 100)\n",
        "print (s1.calculate_salary())\n",
        "\n",
        "print(s1.bonus(500))\n"
      ],
      "metadata": {
        "colab": {
          "base_uri": "https://localhost:8080/"
        },
        "id": "ffVRIediV1Rq",
        "outputId": "09c9fbc1-21a0-46ba-9be4-3f6e1a3401ac"
      },
      "execution_count": null,
      "outputs": [
        {
          "output_type": "stream",
          "name": "stdout",
          "text": [
            "The salary is : 800\n",
            "The salary after bonus is : 1300\n"
          ]
        }
      ]
    },
    {
      "cell_type": "markdown",
      "source": [
        "15. Create a class Product with attributes name, price, and quantity. Implement a method total_price() that calculates the total price of the product."
      ],
      "metadata": {
        "id": "pLBC67bSV1lA"
      }
    },
    {
      "cell_type": "code",
      "source": [
        "class Product:\n",
        "\n",
        "      def __init__ (self, name, price, quantity):\n",
        "          self.name = name\n",
        "          self.price = price\n",
        "          self.quantity = quantity\n",
        "\n",
        "      def total_price (self):\n",
        "          price = self.quantity * self.price\n",
        "          return f\"The price of product {self.name} is {price}\"\n",
        "\n",
        "p1 = Product(\"B&W\", 1580, 5)\n",
        "print (p1.total_price())\n"
      ],
      "metadata": {
        "colab": {
          "base_uri": "https://localhost:8080/"
        },
        "id": "feCxp_SFV3-L",
        "outputId": "2e28128e-d16f-48fe-ac64-c062fbf19619"
      },
      "execution_count": null,
      "outputs": [
        {
          "output_type": "stream",
          "name": "stdout",
          "text": [
            "The price of product B&W is 7900\n"
          ]
        }
      ]
    },
    {
      "cell_type": "markdown",
      "source": [
        "16. Create a class Animal with an abstract method sound(). Create two derived classes Cow and Sheep that implement the sound() method."
      ],
      "metadata": {
        "id": "HoLz6L1JV4Wm"
      }
    },
    {
      "cell_type": "code",
      "source": [
        "class Animal:\n",
        "    def __init__(self, sound):\n",
        "        self.sound = sound\n",
        "\n",
        "    def speak (self):\n",
        "        return f\"The sound of Animal is : {self.sound}\"\n",
        "\n",
        "class Cow(Animal):\n",
        "\n",
        "    def speak (self):\n",
        "       return f\"The sound of Cow is : {self.sound}\"\n",
        "\n",
        "class Sheep (Animal):\n",
        "\n",
        "     def speak (self):\n",
        "       return f\"The sound of Sheep is : {self.sound}\"\n",
        "\n",
        "\n",
        "cow = Cow(\"Mooo\")\n",
        "print (cow.speak())\n",
        "\n",
        "sheep = Sheep(\"bleat\")\n",
        "print (sheep.speak())\n"
      ],
      "metadata": {
        "colab": {
          "base_uri": "https://localhost:8080/"
        },
        "id": "7a0_PqGxV6Wz",
        "outputId": "c264526b-2ff7-4992-ca50-631791682a69"
      },
      "execution_count": null,
      "outputs": [
        {
          "output_type": "stream",
          "name": "stdout",
          "text": [
            "The sound of Cow is : Mooo\n",
            "The sound of Sheep is : bleat\n"
          ]
        }
      ]
    },
    {
      "cell_type": "markdown",
      "source": [
        "17. Create a class Book with attributes title, author, and year_published. Add a method get_book_info() that returns a formatted string with the book's details."
      ],
      "metadata": {
        "id": "G-_RjHx_V6r1"
      }
    },
    {
      "cell_type": "code",
      "source": [
        "class Book:\n",
        "\n",
        "    def __init__ (self, title, author, year_published):\n",
        "        self.title = title\n",
        "        self.author = author\n",
        "        self.year_published = year_published\n",
        "\n",
        "    def get_book_info (self):\n",
        "        return f\"The title the book is : {self.title} \\nAuthor is : {self.author} \\nPublished in : {self.year_published}\"\n",
        "\n",
        "B1 = Book(\"On The Beach\",\"Nevil Shute\", 1957 )\n",
        "print (B1.get_book_info())"
      ],
      "metadata": {
        "colab": {
          "base_uri": "https://localhost:8080/"
        },
        "id": "x8hlrBBzV84t",
        "outputId": "aa6068be-8829-4d88-bc80-0d750affa1a7"
      },
      "execution_count": null,
      "outputs": [
        {
          "output_type": "stream",
          "name": "stdout",
          "text": [
            "The title the book is : On The Beach \n",
            "Author is : Nevil Shute \n",
            "Published in : 1957\n"
          ]
        }
      ]
    },
    {
      "cell_type": "markdown",
      "source": [
        " 18. Create a class House with attributes address and price. Create a derived class Mansion that adds an attribute number_of_rooms."
      ],
      "metadata": {
        "id": "p8YXkXzvV1Gv"
      }
    },
    {
      "cell_type": "code",
      "source": [
        "class House:\n",
        "\n",
        "      def __init__ (self, address, price):\n",
        "\n",
        "          self.address = address\n",
        "          self.price = price\n",
        "\n",
        "      def display_info(self):\n",
        "\n",
        "          return f\"Address: {self.address}, Price: ₹{self.price}\"\n",
        "\n",
        "class Mansion(House):\n",
        "\n",
        "      def __init__ (self, address, price, number_of_rooms):\n",
        "\n",
        "          super().__init__ (address, price)\n",
        "          self.number_of_rooms = number_of_rooms\n",
        "\n",
        "      def display_info(self):\n",
        "\n",
        "          base_info = super().display_info()\n",
        "          return f\"{base_info}, Number of Rooms: {self.number_of_rooms}\"\n",
        "\n",
        "mansion1 = Mansion(\"Luxury Lane 3 Dehradun\", 5000000, 10)\n",
        "print(mansion1.display_info())\n",
        "\n"
      ],
      "metadata": {
        "colab": {
          "base_uri": "https://localhost:8080/"
        },
        "id": "-UnC7dgsV3Pn",
        "outputId": "417ffacd-70b5-462e-c438-cc6e51e90d7b"
      },
      "execution_count": null,
      "outputs": [
        {
          "output_type": "stream",
          "name": "stdout",
          "text": [
            "Address: Luxury Lane 3 Dehradun, Price: ₹5000000, Number of Rooms: 10\n"
          ]
        }
      ]
    }
  ]
}